{
 "cells": [
  {
   "cell_type": "code",
   "execution_count": null,
   "id": "c3f8ace1",
   "metadata": {},
   "outputs": [],
   "source": [
    "import pandas as pd\n",
    "import matplotlib\n",
    "import matplotlib.pyplot as plt\n",
    "import seaborn as sns\n",
    "import numpy as np\n",
    "\n",
    "from sklearn.model_selection import train_test_split\n",
    "from sklearn.linear_model import LinearRegression\n",
    "from sklearn.metrics import accuracy_score"
   ]
  },
  {
   "cell_type": "code",
   "execution_count": null,
   "id": "3ae92554",
   "metadata": {},
   "outputs": [],
   "source": [
    "raw_data = pd.read_csv(\"fifa21_male2.csv\")\n",
    "raw_data.head()"
   ]
  },
  {
   "cell_type": "code",
   "execution_count": null,
   "id": "39edeb37",
   "metadata": {},
   "outputs": [],
   "source": [
    "raw_data.info()"
   ]
  },
  {
   "cell_type": "code",
   "execution_count": null,
   "id": "bce7f835",
   "metadata": {},
   "outputs": [],
   "source": [
    "pd.options.display.max_columns = None\n",
    "raw_data.head()"
   ]
  },
  {
   "cell_type": "code",
   "execution_count": null,
   "id": "0ae5d049",
   "metadata": {},
   "outputs": [],
   "source": [
    "raw_data.info(verbose=True)"
   ]
  },
  {
   "cell_type": "code",
   "execution_count": null,
   "id": "98bcba8b",
   "metadata": {},
   "outputs": [],
   "source": [
    "#standardising column names\n",
    "raw_data.columns = [name.lower().replace(\" \", \"_\") for name in raw_data.columns]\n",
    "raw_data.head()"
   ]
  },
  {
   "cell_type": "code",
   "execution_count": null,
   "id": "bb8aab74",
   "metadata": {},
   "outputs": [],
   "source": [
    "# converting measurements to numerical variables \n",
    "# we have to change the columns 14, 15, 20-22 \"height\", \"weight\", \"value\", \"wage\", \"clause\"\n",
    "\n",
    "# first, we'll remove the feet and inch symbols and multiply by 2.54. NB: height is now expressed in centimetres\n",
    "\n",
    "raw_data['height'] = (raw_data['height']\n",
    " .str.extract(r'(\\d+)\\'\\s*(\\d+)\"')\n",
    " .astype(float)\n",
    " .mul([12*2.54, 2.54])\n",
    " .sum(axis=1)\n",
    " )\n",
    "\n",
    "raw_data.head()\n",
    "\n",
    "\n",
    "#source: https://stackoverflow.com/questions/73007247/converting-inches-to-cm-on-series"
   ]
  },
  {
   "cell_type": "code",
   "execution_count": null,
   "id": "50939856",
   "metadata": {},
   "outputs": [],
   "source": [
    "# change pounds \"lbs\"\"\n",
    "\n",
    "raw_data['weight'] = (raw_data['weight']\n",
    ".str.replace('lbs$|ml$', '')\n",
    ")\n",
    "\n",
    "raw_data.head()\n"
   ]
  },
  {
   "cell_type": "code",
   "execution_count": null,
   "id": "50573856",
   "metadata": {},
   "outputs": [],
   "source": [
    "# change pounds to kilos\n",
    "\n",
    "raw_data['weight'] = (raw_data['weight'].astype(float)) # convert to a number\n",
    "\n",
    "raw_data['weight'] = raw_data['weight'] * 0.45359237 #  mutliply by .45\n",
    "\n",
    "#check that the updated column is there\n",
    "raw_data.head()"
   ]
  },
  {
   "cell_type": "code",
   "execution_count": null,
   "id": "be1daf11",
   "metadata": {},
   "outputs": [],
   "source": [
    "# converting money amounts to numbers\n",
    "raw_data['value'].value_counts() # see what we have\n",
    "# we have a mix of millions and thousands "
   ]
  },
  {
   "cell_type": "code",
   "execution_count": null,
   "id": "e54a9330",
   "metadata": {},
   "outputs": [],
   "source": [
    "# remove euro symbol\n",
    "#raw_data['value'] = raw_data['value'].apply(lambda x: string.replace(\"€\",\"\"))\n",
    "raw_data['value'] = raw_data['value'].replace('\\u20AC','',regex=True)\n",
    "raw_data.head()"
   ]
  },
  {
   "cell_type": "code",
   "execution_count": null,
   "id": "f7a5f905",
   "metadata": {},
   "outputs": [],
   "source": [
    "# convert value from symbols to numbers\n",
    "# create a function to remove K and M strings, convert string to numbers and mutliply by 1M or 1K\n",
    "def str_to_num(x):\n",
    "    if 'K' in x:\n",
    "        return float(x.replace('K','')) * 1000\n",
    "    elif 'M' in x:\n",
    "        return float(x.replace('M','')) * 1000000\n",
    "    else:\n",
    "        return float(x)\n",
    "\n",
    "# apply the function to the column\n",
    "raw_data['value'] = raw_data['value'].apply(str_to_num)\n",
    "raw_data.head()"
   ]
  },
  {
   "cell_type": "code",
   "execution_count": null,
   "id": "40397b53",
   "metadata": {},
   "outputs": [],
   "source": [
    "# convert wages and release clause from symbols to numbers\n",
    "# create a function to remove K and M strings, convert string to numbers and mutliply by 1M or 1K\n",
    "\n",
    "raw_data['wage'] = raw_data['wage'].replace('\\u20AC','',regex=True)\n",
    "raw_data['release_clause'] = raw_data['release_clause'].replace('\\u20AC','',regex=True)\n",
    "\n",
    "\n",
    "def str_to_num(x):\n",
    "    if 'K' in x:\n",
    "        return float(x.replace('K','')) * 1000\n",
    "    elif 'M' in x:\n",
    "        return float(x.replace('M','')) * 1000000\n",
    "    else:\n",
    "        return float(x)\n",
    "\n",
    "# apply the function to the column\n",
    "raw_data['wage'] = raw_data['wage'].apply(str_to_num)\n",
    "raw_data['release_clause'] = raw_data['release_clause'].apply(str_to_num)\n",
    "\n",
    "raw_data.head()"
   ]
  },
  {
   "cell_type": "code",
   "execution_count": null,
   "id": "632b2452",
   "metadata": {},
   "outputs": [],
   "source": [
    "#Jesus: here I am splitting the contract column into two columns \"contract_start\", \"contract_end\"\n",
    "raw_data[['contract_start', 'contract_end']] = raw_data['contract'].str.split(' ~ ', expand=True)\n",
    "\n",
    "raw_data['contract_end'].fillna(value=np.nan, inplace=True)\n",
    "\n",
    "raw_data.drop(['contract', 'team_&_contract'], axis=1, inplace=True)\n",
    "\n",
    "print(raw_data.loc[:, ['contract_start', 'contract_end']])"
   ]
  },
  {
   "cell_type": "code",
   "execution_count": null,
   "id": "34441c74",
   "metadata": {},
   "outputs": [],
   "source": [
    "#Jesus: here I am looking for values that are not years in \"contract_start\", \"contract_end\" to understand how many invalid values we have\n",
    "pattern = r'^\\d{4}$'\n",
    "\n",
    "raw_data['contract_end'] = raw_data['contract_end'].astype(str)\n",
    "\n",
    "start_count = raw_data[~raw_data['contract_start'].str.contains(pattern)].shape[0]\n",
    "end_count = raw_data[~raw_data['contract_end'].str.contains(pattern)].shape[0]\n",
    "\n",
    "print(f\"Rows with non-year format in contract_start: {start_count}\")\n",
    "print(f\"Rows with non-year format in contract_end: {end_count}\")"
   ]
  },
  {
   "cell_type": "code",
   "execution_count": null,
   "id": "00e69f63",
   "metadata": {},
   "outputs": [],
   "source": [
    "#Jesus: here I am dropping invalid values in \"contract_start\", \"contract_end\"\n",
    "pattern = r'^\\d{4}$'\n",
    "\n",
    "raw_data['contract_end'] = raw_data['contract_end'].astype(str)\n",
    "\n",
    "mask = ~(raw_data['contract_start'].str.contains(pattern)) | ~(raw_data['contract_end'].str.contains(pattern))\n",
    "\n",
    "raw_data = raw_data.drop(index=raw_data[mask].index)\n",
    "\n",
    "print(raw_data.loc[:, ['contract_start', 'contract_end']])"
   ]
  },
  {
   "cell_type": "code",
   "execution_count": null,
   "id": "7873e6f5",
   "metadata": {},
   "outputs": [],
   "source": [
    "#Jesus: here I am converting 'contract_start' and 'contract_end' to int\n",
    "raw_data['contract_start'] = pd.to_numeric(raw_data['contract_start'])\n",
    "raw_data['contract_end'] = pd.to_numeric(raw_data['contract_end'])\n",
    "\n",
    "print(raw_data.loc[:, ['contract_start', 'contract_end']])"
   ]
  },
  {
   "cell_type": "markdown",
   "id": "0153b90b",
   "metadata": {},
   "source": [
    "### Dealing with Empty Values (Ricardo)"
   ]
  },
  {
   "cell_type": "code",
   "execution_count": null,
   "id": "95ad59d1",
   "metadata": {},
   "outputs": [],
   "source": [
    "#creating the list of columns for numericals and non numericals\n",
    "num_cols = raw_data.select_dtypes(include=['float64', 'int64']).columns\n",
    "non_num_cols = raw_data.select_dtypes(exclude=['float64', 'int64']).columns"
   ]
  },
  {
   "cell_type": "code",
   "execution_count": null,
   "id": "65e5ea9d",
   "metadata": {},
   "outputs": [],
   "source": [
    "#filling empty values with the mean for the numeric ones\n",
    "raw_data[num_cols] = raw_data[num_cols].fillna(raw_data[num_cols].mean())"
   ]
  },
  {
   "cell_type": "code",
   "execution_count": null,
   "id": "5bcd0170",
   "metadata": {},
   "outputs": [],
   "source": [
    "non_num_cols"
   ]
  },
  {
   "cell_type": "code",
   "execution_count": null,
   "id": "4e487c7a",
   "metadata": {},
   "outputs": [],
   "source": [
    "for col in non_num_cols:\n",
    "    if col in raw_data.columns:\n",
    "        mode = raw_data[col].mode()\n",
    "        if not mode.empty:\n",
    "            raw_data[col].fillna(mode[0], inplace=True)\n",
    "        else:\n",
    "            print(f\"No mode found for column {col}\")\n",
    "    else:\n",
    "        print(f\"Column {col} not found in raw_data\")"
   ]
  },
  {
   "cell_type": "markdown",
   "id": "460f58e6",
   "metadata": {},
   "source": [
    "### Checking for Multicolianerity and Removing Columns (Ricardo)"
   ]
  },
  {
   "cell_type": "code",
   "execution_count": null,
   "id": "76737d00",
   "metadata": {},
   "outputs": [],
   "source": [
    "#splitting numerical and categorical\n",
    "X_num = raw_data.select_dtypes(include = np.number)\n",
    "X_cat = raw_data.select_dtypes(include = np.object)\n",
    "X_num"
   ]
  },
  {
   "cell_type": "code",
   "execution_count": null,
   "id": "005a78ef",
   "metadata": {},
   "outputs": [],
   "source": [
    "# Creating the correlation matrix\n",
    "correlation_matrix = X_num.corr().apply(lambda x: round(x,2))"
   ]
  },
  {
   "cell_type": "code",
   "execution_count": null,
   "id": "b0a7136e",
   "metadata": {},
   "outputs": [],
   "source": [
    "#visually presenting correlation matrix\n",
    "sns.heatmap(correlation_matrix, cmap='coolwarm')\n",
    "plt.show()"
   ]
  },
  {
   "cell_type": "code",
   "execution_count": null,
   "id": "d21151f6",
   "metadata": {},
   "outputs": [],
   "source": [
    "#deleting columns thay have correlation higher than 0.7 with each other\n",
    "high_corr_cols = set()\n",
    "\n",
    "for i in range(len(correlation_matrix.columns)):\n",
    "    for j in range(i):\n",
    "        if abs(correlation_matrix.iloc[i, j]) >= 0.70:\n",
    "            colname = correlation_matrix.columns[i]\n",
    "            high_corr_cols.add(colname)"
   ]
  },
  {
   "cell_type": "code",
   "execution_count": null,
   "id": "6c48ecc3",
   "metadata": {},
   "outputs": [],
   "source": [
    "#deleting columns thay have correlation higher than 0.7 with each other\n",
    "raw_data = raw_data.drop(columns=high_corr_cols)"
   ]
  },
  {
   "cell_type": "code",
   "execution_count": null,
   "id": "8e566d02",
   "metadata": {},
   "outputs": [],
   "source": [
    "#deleting other useless columns\n",
    "raw_data =raw_data.drop(columns = [\"Player Photo\" , \"Club Logo\",\"Flag Photo\", \"Gender\",\"ID\"])\n",
    "raw_data"
   ]
  }
 ],
 "metadata": {
  "kernelspec": {
   "display_name": "Python 3 (ipykernel)",
   "language": "python",
   "name": "python3"
  },
  "language_info": {
   "codemirror_mode": {
    "name": "ipython",
    "version": 3
   },
   "file_extension": ".py",
   "mimetype": "text/x-python",
   "name": "python",
   "nbconvert_exporter": "python",
   "pygments_lexer": "ipython3",
   "version": "3.11.1"
  },
  "vscode": {
   "interpreter": {
    "hash": "aee8b7b246df8f9039afb4144a1f6fd8d2ca17a180786b69acc140d282b71a49"
   }
  }
 },
 "nbformat": 4,
 "nbformat_minor": 5
}
